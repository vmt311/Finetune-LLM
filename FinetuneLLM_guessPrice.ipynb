{
  "nbformat": 4,
  "nbformat_minor": 0,
  "metadata": {
    "colab": {
      "provenance": [],
      "gpuType": "T4",
      "authorship_tag": "ABX9TyPbRsK4CFgvPO/sDgKk1hqe",
      "include_colab_link": true
    },
    "kernelspec": {
      "name": "python3",
      "display_name": "Python 3"
    },
    "language_info": {
      "name": "python"
    },
    "accelerator": "GPU"
  },
  "cells": [
    {
      "cell_type": "markdown",
      "metadata": {
        "id": "view-in-github",
        "colab_type": "text"
      },
      "source": [
        "<a href=\"https://colab.research.google.com/github/vmt311/Finetune-LLM/blob/main/FinetuneLLM_guessPrice.ipynb\" target=\"_parent\"><img src=\"https://colab.research.google.com/assets/colab-badge.svg\" alt=\"Open In Colab\"/></a>"
      ]
    },
    {
      "cell_type": "code",
      "execution_count": null,
      "metadata": {
        "id": "jCwME22ZJBH6"
      },
      "outputs": [],
      "source": [
        "# Python >=3.10\n",
        "!pip install -U \"transformers>=4.44\" \"datasets>=2.20\" \"accelerate>=0.33\" \"peft>=0.13\" \\\n",
        "  \"trl>=0.9\" \"bitsandbytes>=0.43\" \"evaluate\" \"scipy\" \"sentencepiece\""
      ]
    },
    {
      "cell_type": "code",
      "source": [
        "from google.colab import userdata\n",
        "from huggingface_hub import login\n",
        "\n",
        "hf_token = userdata.get(\"HF_TOKEN\")\n",
        "\n",
        "login(token=hf_token)"
      ],
      "metadata": {
        "id": "BMgMYcaOKPPH"
      },
      "execution_count": null,
      "outputs": []
    },
    {
      "cell_type": "code",
      "source": [
        "from datasets import load_dataset\n",
        "\n",
        "dataset = load_dataset(\"vmt311/bookpricer-data\")\n",
        "\n",
        "dataset"
      ],
      "metadata": {
        "id": "M6q8Z4s1JoWb"
      },
      "execution_count": null,
      "outputs": []
    },
    {
      "cell_type": "code",
      "source": [
        "train=dataset[\"train\"]\n",
        "test=dataset[\"test\"]"
      ],
      "metadata": {
        "id": "OhDog9ILLVpG"
      },
      "execution_count": null,
      "outputs": []
    },
    {
      "cell_type": "code",
      "source": [
        "train[1]"
      ],
      "metadata": {
        "id": "Maf7HoVkLv-Q"
      },
      "execution_count": null,
      "outputs": []
    },
    {
      "cell_type": "code",
      "source": [
        "import torch\n",
        "from transformers import (\n",
        "    AutoModelForCausalLM, AutoTokenizer, BitsAndBytesConfig,\n",
        "    HfArgumentParser, TrainingArguments, pipeline, logging\n",
        ")\n",
        "from peft import LoraConfig, PeftModel\n",
        "from trl import SFTTrainer, SFTConfig"
      ],
      "metadata": {
        "id": "WkVXt5QYMoAw"
      },
      "execution_count": null,
      "outputs": []
    },
    {
      "cell_type": "code",
      "source": [
        "bnb_config = BitsAndBytesConfig(\n",
        "    load_in_4bit=True,\n",
        "    bnb_4bit_quant_type=\"nf4\",\n",
        "    bnb_4bit_compute_dtype=torch.float16,\n",
        "    bnb_4bit_use_double_quant=False,\n",
        ")"
      ],
      "metadata": {
        "id": "8xDORIbpNGQA"
      },
      "execution_count": null,
      "outputs": []
    },
    {
      "cell_type": "code",
      "source": [
        "base_model_name = \"meta-llama/Meta-Llama-3.1-8B\"\n",
        "base_model = AutoModelForCausalLM.from_pretrained(\n",
        "    base_model_name,\n",
        "    quantization_config=bnb_config,\n",
        "    device_map=\"auto\"\n",
        ")\n",
        "base_model"
      ],
      "metadata": {
        "id": "nCh3lOpqNJ10"
      },
      "execution_count": null,
      "outputs": []
    },
    {
      "cell_type": "code",
      "source": [
        "tokenizer = AutoTokenizer.from_pretrained(base_model_name, trust_remote_code=True)\n",
        "tokenizer.pad_token = tokenizer.eos_token\n",
        "tokenizer.padding_size = \"right\""
      ],
      "metadata": {
        "id": "kg7tKyUANLPw"
      },
      "execution_count": null,
      "outputs": []
    },
    {
      "cell_type": "code",
      "source": [
        "# Cấu hình LoRA\n",
        "peft_config = LoraConfig(\n",
        "    lora_alpha=16,\n",
        "    lora_dropout=0.1,\n",
        "    r=64,\n",
        "    bias=\"none\",\n",
        "    task_type=\"CAUSAL_LM\",\n",
        ")"
      ],
      "metadata": {
        "id": "iuiWH7-hXCsp"
      },
      "execution_count": null,
      "outputs": []
    },
    {
      "cell_type": "code",
      "source": [
        "sft_config = SFTConfig(\n",
        "    output_dir=\"./sft-model-book-price\",\n",
        "    num_train_epochs=1,\n",
        "    per_device_train_batch_size=8,\n",
        "    gradient_accumulation_steps=4,\n",
        "    optim=\"paged_adamw_32bit\",\n",
        "    logging_steps=25,\n",
        "    learning_rate=2e-4,\n",
        "    weight_decay=0.001,\n",
        "    fp16=True,\n",
        "    bf16=False,\n",
        "    max_grad_norm=0.3,\n",
        "    max_steps=-1,\n",
        "    warmup_ratio=0.03,\n",
        "    group_by_length=True,\n",
        "    lr_scheduler_type=\"cosine\",\n",
        "    gradient_checkpointing=False,\n",
        "    save_strategy=\"no\",\n",
        "\n",
        "    # riêng cho SFTTrainer\n",
        "    # max_seq_length=1024,\n",
        "    packing=False,\n",
        ")"
      ],
      "metadata": {
        "id": "FitXe-GAXH4J"
      },
      "execution_count": null,
      "outputs": []
    },
    {
      "cell_type": "code",
      "source": [
        "def formatting_func(example):\n",
        "    return f\"User: {example['text']}\\nAssistant: {example['price']}\""
      ],
      "metadata": {
        "id": "SUaVHMuIap9o"
      },
      "execution_count": null,
      "outputs": []
    },
    {
      "cell_type": "code",
      "source": [
        "formatting_func(train[0])"
      ],
      "metadata": {
        "id": "hGIaSJ16bHjW"
      },
      "execution_count": null,
      "outputs": []
    },
    {
      "cell_type": "code",
      "source": [
        "trainer = SFTTrainer(\n",
        "    model=base_model,\n",
        "    processing_class=tokenizer,\n",
        "    train_dataset=train,\n",
        "    peft_config=peft_config,\n",
        "    formatting_func=formatting_func,\n",
        "    args=sft_config,\n",
        "    eval_dataset=test\n",
        ")"
      ],
      "metadata": {
        "id": "nHPE7H7YXKc2"
      },
      "execution_count": null,
      "outputs": []
    },
    {
      "cell_type": "code",
      "source": [
        "trainer.train()"
      ],
      "metadata": {
        "id": "-0metiLHdMkz"
      },
      "execution_count": null,
      "outputs": []
    },
    {
      "cell_type": "code",
      "source": [
        "trainer.save_model()"
      ],
      "metadata": {
        "id": "io-JYunrTwHZ"
      },
      "execution_count": null,
      "outputs": []
    },
    {
      "cell_type": "code",
      "source": [
        "trainer.push_to_hub(\n",
        "    model_name=\"vmt311/sft-model-book-price\"\n",
        ")"
      ],
      "metadata": {
        "id": "-2hHKNsPT2ZZ"
      },
      "execution_count": null,
      "outputs": []
    },
    {
      "cell_type": "code",
      "source": [
        "!nvidia-smi"
      ],
      "metadata": {
        "id": "9RxDec2_fRM2"
      },
      "execution_count": null,
      "outputs": []
    }
  ]
}